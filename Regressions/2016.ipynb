{
 "cells": [
  {
   "cell_type": "code",
   "execution_count": null,
   "metadata": {
    "vscode": {
     "languageId": "plaintext"
    }
   },
   "outputs": [],
   "source": [
    "import pandas as pd\n",
    "import statsmodels.api as sm"
   ]
  },
  {
   "cell_type": "code",
   "execution_count": null,
   "metadata": {
    "vscode": {
     "languageId": "plaintext"
    }
   },
   "outputs": [],
   "source": [
    "batting_2016 = pd.read_csv(r\"D:\\GitHub\\Econometrics_Term_Paper\\Yearly_Data\\2016batting.csv\")\n",
    "pitching_2016 = pd.read_csv(r\"D:\\GitHub\\Econometrics_Term_Paper\\Yearly_Data\\2016pitching.csv\")\n",
    "fielding_2016 = pd.read_csv(r\"D:\\GitHub\\Econometrics_Term_Paper\\Yearly_Data\\2016fielding.csv\")"
   ]
  }
 ],
 "metadata": {
  "language_info": {
   "name": "python"
  }
 },
 "nbformat": 4,
 "nbformat_minor": 2
}
