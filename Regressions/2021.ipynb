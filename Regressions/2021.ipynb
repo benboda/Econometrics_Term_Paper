{
 "cells": [
  {
   "cell_type": "code",
   "execution_count": 1,
   "metadata": {},
   "outputs": [],
   "source": [
    "import pandas as pd\n",
    "import numpy as np\n",
    "import statsmodels.api as sm\n",
    "import scipy.stats as stats\n",
    "import seaborn as sns\n",
    "import matplotlib.pyplot as plt\n",
    "from statsmodels.stats.diagnostic import het_breuschpagan\n",
    "from statsmodels.stats.stattools import durbin_watson\n",
    "from statsmodels.stats.outliers_influence import variance_inflation_factor\n",
    "from sklearn.preprocessing import StandardScaler"
   ]
  },
  {
   "cell_type": "code",
   "execution_count": 2,
   "metadata": {},
   "outputs": [],
   "source": [
    "batting = pd.read_csv(r\"D:\\GitHub\\Econometrics_Term_Paper\\Yearly_Data\\2021batting.csv\")\n",
    "batting = batting.add_suffix(\"_bat\")\n",
    "pitching = pd.read_csv(r\"D:\\GitHub\\Econometrics_Term_Paper\\Yearly_Data\\2021pitching.csv\")\n",
    "pitching = pitching.add_suffix(\"_pitch\")\n",
    "fielding = pd.read_csv(r\"D:\\GitHub\\Econometrics_Term_Paper\\Yearly_Data\\2021fielding.csv\")\n",
    "fielding = fielding.add_suffix(\"_field\")\n",
    "data = pd.merge(pd.merge(batting, pitching, left_on=\"Tm_bat\", right_on=\"Tm_pitch\"), fielding, left_on=\"Tm_pitch\", right_on=\"Tm_field\")\n",
    "data.drop([\"Tm_pitch\", \"Tm_field\"], axis=1, inplace=True)\n",
    "data = data.iloc[0:30]\n",
    "win_totals = pd.read_csv(r\"D:\\GitHub\\Econometrics_Term_Paper\\Yearly_Data\\win_totals.csv\")"
   ]
  },
  {
   "cell_type": "code",
   "execution_count": 3,
   "metadata": {},
   "outputs": [],
   "source": [
    "initials_dict = {\"ARI\": \"Arizona Diamondbacks\", \"ATL\": \"Atlanta Braves\", \"BAL\": \"Baltimore Orioles\", \"BOS\": \"Boston Red Sox\", \"CHC\": \"Chicago Cubs\", \"CHW\": \"Chicago White Sox\", \"CIN\": \"Cincinnati Reds\", \"CLE\": [\"Cleveland Guardians\", \"Cleveland Indians\"], \"COL\": \"Colorado Rockies\", \"DET\": \"Detroit Tigers\", \"HOU\": \"Houston Astros\", \"KCR\": \"Kansas City Royals\", \"LAA\": [\"Los Angeles Angels\", \"Los Angeles Angels of Aneheim\"], \"LAD\": \"Los Angeles Dodgers\", \"MIA\": \"Miami Marlins\", \"MIL\": \"Milwaukee Brewers\", \"MIN\": \"Minnesota Twins\", \"NYM\": \"New York Mets\", \"NYY\": \"New York Yankees\", \"OAK\": \"Oakland Athletics\", \"PHI\": \"Philadelphia Phillies\", \"PIT\": \"Pittsburgh Pirates\", \"SDP\": \"San Diego Padres\", \"SFG\": \"San Francisco Giants\", \"SEA\": \"Seattle Mariners\", \"STL\": \"St. Louis Cardinals\", \"TBR\": \"Tampa Bay Rays\", \"TEX\": \"Texas Rangers\", \"TOR\": \"Toronto Blue Jays\", \"WSN\": \"Washington Nationals\"}"
   ]
  },
  {
   "cell_type": "code",
   "execution_count": 4,
   "metadata": {},
   "outputs": [],
   "source": [
    "win_totals = win_totals.melt(\n",
    "    id_vars=[\"Year\", \"G\"],\n",
    "    var_name=\"Team\", \n",
    "    value_name=\"Wins\"\n",
    "    )\n",
    "win_totals.dropna(inplace=True)\n",
    "win_totals.reset_index(drop=True, inplace=True)\n",
    "win_totals.drop(\"G\", axis=1, inplace=True)\n",
    "win_totals = win_totals[(win_totals[\"Year\"] == 2021)].copy()\n",
    "win_totals.reset_index(drop=True, inplace=True)"
   ]
  },
  {
   "cell_type": "code",
   "execution_count": 5,
   "metadata": {},
   "outputs": [],
   "source": [
    "invert_dict = {team: abbr for abbr, teams in initials_dict.items() for team in (teams if isinstance(teams, list) else [teams])}\n",
    "data[\"Team Abbreviation\"] = data[\"Tm_bat\"].map(invert_dict)\n",
    "data = data.merge(win_totals, left_on=\"Team Abbreviation\", right_on=\"Team\", how=\"left\", suffixes=(\"\", \"_wintotals\"))\n",
    "data.drop([\"Team Abbreviation\", \"Year\"], axis=1, inplace=True)\n",
    "data.rename(columns={\"Team\": \"Abbreviation\", \"Wins\": \"Wins\"}, inplace=True)\n",
    "data.insert(1, \"Abbreviation\", data.pop(\"Abbreviation\"))\n",
    "data.insert(2, \"Wins\", data.pop(\"Wins\"))\n",
    "data[\"Team\"] = data[\"Tm_bat\"] + \" \" + \"(\" + data[\"Abbreviation\"] + \")\"\n",
    "data.drop([\"Tm_bat\", \"Abbreviation\"], axis=1, inplace=True)\n",
    "data.insert(0, \"Team\", data.pop(\"Team\"))\n",
    "data.set_index(\"Team\", inplace=True)\n",
    "data.dropna(inplace=True)\n",
    "data[\"XBH_bat\"] = data[\"2B_bat\"] + data[\"3B_bat\"] + data[\"HR_bat\"]\n",
    "data.insert(12, \"XBH_bat\", data.pop(\"XBH_bat\"))\n",
    "corr_matrix = data.corr()"
   ]
  },
  {
   "cell_type": "code",
   "execution_count": 6,
   "metadata": {},
   "outputs": [
    {
     "name": "stdout",
     "output_type": "stream",
     "text": [
      "                            OLS Regression Results                            \n",
      "==============================================================================\n",
      "Dep. Variable:                   Wins   R-squared:                       0.805\n",
      "Model:                            OLS   Adj. R-squared:                  0.791\n",
      "Method:                 Least Squares   F-statistic:                     55.76\n",
      "Date:                Thu, 05 Dec 2024   Prob (F-statistic):           2.59e-10\n",
      "Time:                        00:45:32   Log-Likelihood:                -17.531\n",
      "No. Observations:                  30   AIC:                             41.06\n",
      "Df Residuals:                      27   BIC:                             45.27\n",
      "Df Model:                           2                                         \n",
      "Covariance Type:            nonrobust                                         \n",
      "==============================================================================\n",
      "                 coef    std err          t      P>|t|      [0.025      0.975]\n",
      "------------------------------------------------------------------------------\n",
      "const      -1.683e-16      0.084  -2.01e-15      1.000      -0.171       0.171\n",
      "OPS_bat        0.3597      0.094      3.834      0.001       0.167       0.552\n",
      "WHIP_pitch    -0.6833      0.094     -7.282      0.000      -0.876      -0.491\n",
      "==============================================================================\n",
      "Omnibus:                        0.389   Durbin-Watson:                   1.521\n",
      "Prob(Omnibus):                  0.823   Jarque-Bera (JB):                0.539\n",
      "Skew:                           0.091   Prob(JB):                        0.764\n",
      "Kurtosis:                       2.369   Cond. No.                         1.57\n",
      "==============================================================================\n",
      "\n",
      "Notes:\n",
      "[1] Standard Errors assume that the covariance matrix of the errors is correctly specified.\n",
      "Critical t-stat: 2.0518305164802833\n"
     ]
    }
   ],
   "source": [
    "# Whip, pitcher strikeouts, strikeout to walk ratio, fielding percentage, defensive efficiency, home runs or XBH, on base percentage, maybe stolen bases, hitter strikeouts to measure overtime, maybe LOB, OPS+\n",
    "X = data[[\"OPS_bat\", \"WHIP_pitch\"]]\n",
    "Y = data[\"Wins\"]\n",
    "X_Standardized = sm.add_constant((X - X.mean()) / X.std())\n",
    "Y_Standardized = (Y - Y.mean()) / Y.std()\n",
    "# model = sm.OLS(Y, sm.add_constant(X)).fit()\n",
    "model = sm.OLS(Y_Standardized, X_Standardized).fit()\n",
    "print(model.summary())\n",
    "n = X.shape[0]\n",
    "k = X.shape[1]\n",
    "df = n - k - 1\n",
    "alpha = 0.05\n",
    "critical_t = stats.t.ppf(1 - alpha / 2, df)\n",
    "print(f\"Critical t-stat: {critical_t}\")"
   ]
  },
  {
   "cell_type": "code",
   "execution_count": 7,
   "metadata": {},
   "outputs": [
    {
     "name": "stdout",
     "output_type": "stream",
     "text": [
      "Bresuch-Pagan P-value: 0.286348719260159\n",
      "Durbin-Watson Statistic: 1.5211996671446708\n",
      "     Variable      VIF\n",
      "0       const  1.00000\n",
      "1     OPS_bat  1.21982\n",
      "2  WHIP_pitch  1.21982\n"
     ]
    }
   ],
   "source": [
    "_, pval, _, _ = het_breuschpagan(model.resid, model.model.exog) \n",
    "print(f\"Bresuch-Pagan P-value: {pval}\")\n",
    "dw_stat = durbin_watson(model.resid)\n",
    "print(f\"Durbin-Watson Statistic: {dw_stat}\")\n",
    "vif = pd.DataFrame()\n",
    "vif[\"Variable\"] = X_Standardized.columns\n",
    "vif[\"VIF\"] = [variance_inflation_factor(X_Standardized.values, i) for i in range(X_Standardized.shape[1])]\n",
    "print(vif)"
   ]
  }
 ],
 "metadata": {
  "kernelspec": {
   "display_name": "Python 3",
   "language": "python",
   "name": "python3"
  },
  "language_info": {
   "codemirror_mode": {
    "name": "ipython",
    "version": 3
   },
   "file_extension": ".py",
   "mimetype": "text/x-python",
   "name": "python",
   "nbconvert_exporter": "python",
   "pygments_lexer": "ipython3",
   "version": "3.12.2"
  }
 },
 "nbformat": 4,
 "nbformat_minor": 2
}
