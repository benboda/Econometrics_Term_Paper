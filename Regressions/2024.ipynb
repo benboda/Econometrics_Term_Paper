{
 "cells": [
  {
   "cell_type": "code",
   "execution_count": 81,
   "metadata": {},
   "outputs": [],
   "source": [
    "import pandas as pd\n",
    "import statsmodels.api as sm"
   ]
  },
  {
   "cell_type": "code",
   "execution_count": 82,
   "metadata": {},
   "outputs": [],
   "source": [
    "batting_2024 = pd.read_csv(\"/Users/benboda/Downloads/GitHub/Econometrics_Term_Paper/Yearly_Data/2024batting.csv\")\n",
    "pitching_2024 = pd.read_csv(\"/Users/benboda/Downloads/GitHub/Econometrics_Term_Paper/Yearly_Data/2024pitching.csv\")\n",
    "fielding_2024 = pd.read_csv(\"/Users/benboda/Downloads/GitHub/Econometrics_Term_Paper/Yearly_Data/2024fielding.csv\")\n",
    "win_totals = pd.read_csv(\"/Users/benboda/Downloads/GitHub/Econometrics_Term_Paper/Yearly_Data/win_totals.csv\")"
   ]
  },
  {
   "cell_type": "code",
   "execution_count": 83,
   "metadata": {},
   "outputs": [],
   "source": [
    "initials_dict = {\"ARI\": \"Arizona Diamondbacks\", \"ATL\": \"Atlanta Braves\", \"BAL\": \"Baltimore Orioles\", \"BOS\": \"Boston Red Sox\", \"CHC\": \"Chicago Cubs\", \"CHW\": \"Chicago White Sox\", \"CIN\": \"Cincinnati Reds\", \"CLE\": [\"Cleveland Guardians\", \"Cleveland Indians\"], \"COL\": \"Colorado Rockies\", \"DET\": \"Detroit Tigers\", \"HOU\": \"Houston Astros\", \"KCR\": \"Kansas City Royals\", \"LAA\": [\"Los Angeles Angels\", \"Los Angeles Angels of Aneheim\"], \"LAD\": \"Los Angeles Dodgers\", \"MIA\": \"Miami Marlins\", \"MIL\": \"Milwaukee Brewers\", \"MIN\": \"Minnesota Twins\", \"NYM\": \"New York Mets\", \"NYY\": \"New York Yankees\", \"OAK\": \"Oakland Athletics\", \"PHI\": \"Philadelphia Phillies\", \"PIT\": \"Pittsburgh Pirates\", \"SDP\": \"San Diego Padres\", \"SFG\": \"San Francisco Giants\", \"SEA\": \"Seattle Mariners\", \"STL\": \"St. Louis Cardinals\", \"TBR\": \"Tampa Bay Rays\", \"TEX\": \"Texas Rangers\", \"TOR\": \"Toronto Blue Jays\", \"WSN\": \"Washington Nationals\"}"
   ]
  },
  {
   "cell_type": "code",
   "execution_count": 84,
   "metadata": {},
   "outputs": [],
   "source": [
    "win_totals = win_totals.melt(\n",
    "    id_vars=[\"Year\", \"G\"],\n",
    "    var_name=\"Team\", \n",
    "    value_name=\"Wins\"\n",
    "    )\n",
    "win_totals.dropna(inplace=True)\n",
    "win_totals.reset_index(drop=True, inplace=True)\n",
    "win_totals.drop(\"G\", axis=1, inplace=True)"
   ]
  },
  {
   "cell_type": "code",
   "execution_count": 85,
   "metadata": {},
   "outputs": [],
   "source": [
    "batting_2024.set_index(\"Tm\", inplace=True)\n",
    "win_totals2024 = win_totals[(win_totals[\"Year\"] == 2024)].copy()\n",
    "win_totals2024.reset_index(drop=True, inplace=True)"
   ]
  },
  {
   "cell_type": "code",
   "execution_count": 86,
   "metadata": {},
   "outputs": [
    {
     "data": {
      "text/plain": [
       "dtype('O')"
      ]
     },
     "execution_count": 86,
     "metadata": {},
     "output_type": "execute_result"
    }
   ],
   "source": [
    "win_totals2024[\"Tm\"] = win_totals2024[\"Team\"].map(initials_dict)\n",
    "# batting_2024 = pd.merge(batting_2024, win_totals2024, left_index=True, right_on=\"Tm\", how=\"left\")\n",
    "batting_2024.index.dtype"
   ]
  }
 ],
 "metadata": {
  "kernelspec": {
   "display_name": "Python 3",
   "language": "python",
   "name": "python3"
  },
  "language_info": {
   "codemirror_mode": {
    "name": "ipython",
    "version": 3
   },
   "file_extension": ".py",
   "mimetype": "text/x-python",
   "name": "python",
   "nbconvert_exporter": "python",
   "pygments_lexer": "ipython3",
   "version": "3.12.0"
  }
 },
 "nbformat": 4,
 "nbformat_minor": 2
}
