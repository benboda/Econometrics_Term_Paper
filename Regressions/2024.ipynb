{
 "cells": [
  {
   "cell_type": "code",
   "execution_count": 265,
   "metadata": {},
   "outputs": [],
   "source": [
    "import pandas as pd\n",
    "import numpy as np\n",
    "import statsmodels.api as sm\n",
    "import scipy.stats as stats"
   ]
  },
  {
   "cell_type": "code",
   "execution_count": 266,
   "metadata": {},
   "outputs": [],
   "source": [
    "batting_2024 = pd.read_csv(\"/Users/benboda/Downloads/GitHub/Econometrics_Term_Paper/Yearly_Data/2024batting.csv\")\n",
    "pitching_2024 = pd.read_csv(\"/Users/benboda/Downloads/GitHub/Econometrics_Term_Paper/Yearly_Data/2024pitching.csv\")\n",
    "fielding_2024 = pd.read_csv(\"/Users/benboda/Downloads/GitHub/Econometrics_Term_Paper/Yearly_Data/2024fielding.csv\")\n",
    "win_totals = pd.read_csv(\"/Users/benboda/Downloads/GitHub/Econometrics_Term_Paper/Yearly_Data/win_totals.csv\")"
   ]
  },
  {
   "cell_type": "code",
   "execution_count": 267,
   "metadata": {},
   "outputs": [],
   "source": [
    "initials_dict = {\"ARI\": \"Arizona Diamondbacks\", \"ATL\": \"Atlanta Braves\", \"BAL\": \"Baltimore Orioles\", \"BOS\": \"Boston Red Sox\", \"CHC\": \"Chicago Cubs\", \"CHW\": \"Chicago White Sox\", \"CIN\": \"Cincinnati Reds\", \"CLE\": [\"Cleveland Guardians\", \"Cleveland Indians\"], \"COL\": \"Colorado Rockies\", \"DET\": \"Detroit Tigers\", \"HOU\": \"Houston Astros\", \"KCR\": \"Kansas City Royals\", \"LAA\": [\"Los Angeles Angels\", \"Los Angeles Angels of Aneheim\"], \"LAD\": \"Los Angeles Dodgers\", \"MIA\": \"Miami Marlins\", \"MIL\": \"Milwaukee Brewers\", \"MIN\": \"Minnesota Twins\", \"NYM\": \"New York Mets\", \"NYY\": \"New York Yankees\", \"OAK\": \"Oakland Athletics\", \"PHI\": \"Philadelphia Phillies\", \"PIT\": \"Pittsburgh Pirates\", \"SDP\": \"San Diego Padres\", \"SFG\": \"San Francisco Giants\", \"SEA\": \"Seattle Mariners\", \"STL\": \"St. Louis Cardinals\", \"TBR\": \"Tampa Bay Rays\", \"TEX\": \"Texas Rangers\", \"TOR\": \"Toronto Blue Jays\", \"WSN\": \"Washington Nationals\"}"
   ]
  },
  {
   "cell_type": "code",
   "execution_count": 268,
   "metadata": {},
   "outputs": [],
   "source": [
    "win_totals = win_totals.melt(\n",
    "    id_vars=[\"Year\", \"G\"],\n",
    "    var_name=\"Team\", \n",
    "    value_name=\"Wins\"\n",
    "    )\n",
    "win_totals.dropna(inplace=True)\n",
    "win_totals.reset_index(drop=True, inplace=True)\n",
    "win_totals.drop(\"G\", axis=1, inplace=True)"
   ]
  },
  {
   "cell_type": "code",
   "execution_count": 269,
   "metadata": {},
   "outputs": [],
   "source": [
    "win_totals2024 = win_totals[(win_totals[\"Year\"] == 2024)].copy()\n",
    "win_totals2024.reset_index(drop=True, inplace=True)"
   ]
  },
  {
   "cell_type": "code",
   "execution_count": 270,
   "metadata": {},
   "outputs": [],
   "source": [
    "invert_dict = {team: abbr for abbr, teams in initials_dict.items() for team in (teams if isinstance(teams, list) else [teams])}\n",
    "batting_2024[\"Team Abbreviation\"] = batting_2024[\"Tm\"].map(invert_dict)\n",
    "batting_2024 = batting_2024.merge(win_totals2024, left_on=\"Team Abbreviation\", right_on=\"Team\", how=\"left\", suffixes=(\"\", \"_wintotals\"))\n",
    "batting_2024.drop([\"Team Abbreviation\", \"Year\"], axis=1, inplace=True)\n",
    "batting_2024.rename(columns={\"Team\": \"Abbreviation\", \"Wins\": \"Wins\"}, inplace=True)\n",
    "batting_2024.insert(1, \"Abbreviation\", batting_2024.pop(\"Abbreviation\"))\n",
    "batting_2024.insert(2, \"Wins\", batting_2024.pop(\"Wins\"))\n",
    "batting_2024[\"Team\"] = batting_2024[\"Tm\"] + \" \" + \"(\" + batting_2024[\"Abbreviation\"] + \")\"\n",
    "batting_2024.drop([\"Tm\", \"Abbreviation\"], axis=1, inplace=True)\n",
    "batting_2024.insert(0, \"Team\", batting_2024.pop(\"Team\"))\n",
    "batting_2024.set_index(\"Team\", inplace=True)\n",
    "batting_2024.dropna(inplace=True)\n",
    "batting_2024[\"XBH\"] = batting_2024[\"2B\"] + batting_2024[\"3B\"] + batting_2024[\"HR\"]\n",
    "batting_2024.insert(12, \"XBH\", batting_2024.pop(\"XBH\"))"
   ]
  },
  {
   "cell_type": "code",
   "execution_count": 271,
   "metadata": {},
   "outputs": [
    {
     "name": "stdout",
     "output_type": "stream",
     "text": [
      "                            OLS Regression Results                            \n",
      "==============================================================================\n",
      "Dep. Variable:                   Wins   R-squared:                       0.631\n",
      "Model:                            OLS   Adj. R-squared:                  0.572\n",
      "Method:                 Least Squares   F-statistic:                     10.70\n",
      "Date:                Thu, 28 Nov 2024   Prob (F-statistic):           3.42e-05\n",
      "Time:                        22:10:59   Log-Likelihood:                -102.79\n",
      "No. Observations:                  30   AIC:                             215.6\n",
      "Df Residuals:                      25   BIC:                             222.6\n",
      "Df Model:                           4                                         \n",
      "Covariance Type:            nonrobust                                         \n",
      "==============================================================================\n",
      "                 coef    std err          t      P>|t|      [0.025      0.975]\n",
      "------------------------------------------------------------------------------\n",
      "const        -56.4055     37.723     -1.495      0.147    -134.097      21.286\n",
      "XBH            0.1497      0.039      3.880      0.001       0.070       0.229\n",
      "SO            -0.0291      0.011     -2.541      0.018      -0.053      -0.006\n",
      "SB             0.0803      0.036      2.211      0.036       0.005       0.155\n",
      "LOB            0.0910      0.035      2.570      0.017       0.018       0.164\n",
      "==============================================================================\n",
      "Omnibus:                        0.155   Durbin-Watson:                   2.102\n",
      "Prob(Omnibus):                  0.925   Jarque-Bera (JB):                0.111\n",
      "Skew:                           0.117   Prob(JB):                        0.946\n",
      "Kurtosis:                       2.816   Cond. No.                     4.60e+04\n",
      "==============================================================================\n",
      "\n",
      "Notes:\n",
      "[1] Standard Errors assume that the covariance matrix of the errors is correctly specified.\n",
      "[2] The condition number is large, 4.6e+04. This might indicate that there are\n",
      "strong multicollinearity or other numerical problems.\n",
      "Critical t-stat: 2.059538552753294\n"
     ]
    }
   ],
   "source": [
    "X = batting_2024[[\"XBH\", \"SO\", \"SB\", \"LOB\"]]\n",
    "Y = batting_2024[[\"Wins\"]]\n",
    "model = sm.OLS(Y, sm.add_constant(X)).fit()\n",
    "print(model.summary())\n",
    "n = len(batting_2024)\n",
    "k = X.shape[1]\n",
    "df = n - k - 1\n",
    "alpha = 0.05\n",
    "critical_t = stats.t.ppf(1 - alpha/2, df)\n",
    "print(f\"Critical t-stat: {critical_t}\")"
   ]
  }
 ],
 "metadata": {
  "kernelspec": {
   "display_name": "Python 3",
   "language": "python",
   "name": "python3"
  },
  "language_info": {
   "codemirror_mode": {
    "name": "ipython",
    "version": 3
   },
   "file_extension": ".py",
   "mimetype": "text/x-python",
   "name": "python",
   "nbconvert_exporter": "python",
   "pygments_lexer": "ipython3",
   "version": "3.12.0"
  }
 },
 "nbformat": 4,
 "nbformat_minor": 2
}
