{
 "cells": [
  {
   "cell_type": "code",
   "execution_count": null,
   "metadata": {
    "vscode": {
     "languageId": "plaintext"
    }
   },
   "outputs": [],
   "source": [
    "import pandas as pd\n",
    "import statsmodels.api as sm"
   ]
  },
  {
   "cell_type": "code",
   "execution_count": null,
   "metadata": {
    "vscode": {
     "languageId": "plaintext"
    }
   },
   "outputs": [],
   "source": [
    "batting_2014 = pd.read_csv(r\"D:\\GitHub\\Econometrics_Term_Paper\\Yearly_Data\\2014batting.csv\")\n",
    "pitching_2014 = pd.read_csv(r\"D:\\GitHub\\Econometrics_Term_Paper\\Yearly_Data\\2014pitching.csv\")\n",
    "fielding_2014 = pd.read_csv(r\"D:\\GitHub\\Econometrics_Term_Paper\\Yearly_Data\\2014fielding.csv\")"
   ]
  }
 ],
 "metadata": {
  "language_info": {
   "name": "python"
  }
 },
 "nbformat": 4,
 "nbformat_minor": 2
}
